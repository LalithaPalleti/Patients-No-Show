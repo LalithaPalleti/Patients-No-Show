{
 "cells": [
  {
   "cell_type": "markdown",
   "metadata": {},
   "source": [
    "# Project: Patient No Show Appointment Dataset \n",
    "\n",
    "## Table of Contents\n",
    "<ul>\n",
    "<li><a href=\"#intro\">Introduction to no show appointments</a></li>\n",
    "<li><a href=\"#wrangling\">Data Wrangling</a></li>\n",
    "<li><a href=\"#eda\">Exploratory Data Analysis</a></li>\n",
    "<li><a href=\"#conclusions\">Conclusions</a></li>\n",
    "</ul>"
   ]
  },
  {
   "cell_type": "markdown",
   "metadata": {},
   "source": [
    "<a id='intro'></a>\n",
    "## Introduction\n",
    "\n",
    "In this project am going to analyze No-show Appointments dataset.This dataset contains patients's information such as ID's,Appointments and other personal details. i am going to explore patients no show appointment data and correlate it with other details             "
   ]
  },
  {
   "cell_type": "code",
   "execution_count": 1,
   "metadata": {},
   "outputs": [],
   "source": [
    "# Use this cell to set up import statements for all of the packages that you\n",
    "#   plan to use.\n",
    "\n",
    "# Remember to include a 'magic word' so that your visualizations are plotted\n",
    "#   inline with the notebook. See this page for more:\n",
    "#   http://ipython.readthedocs.io/en/stable/interactive/magics.html\n",
    "\n",
    "import numpy as np\n",
    "import pandas as pd\n",
    "import seaborn as sns\n",
    "import matplotlib.pyplot as plt\n",
    "% matplotlib inline\n"
   ]
  },
  {
   "cell_type": "markdown",
   "metadata": {},
   "source": [
    "<a id='wrangling'></a>\n",
    "## Data Wrangling\n",
    "Created a dataframe from the csv file and printed few lines to see the data.Checked for datatypes and null values in each column\n",
    "\n",
    "### General Properties"
   ]
  },
  {
   "cell_type": "code",
   "execution_count": 2,
   "metadata": {},
   "outputs": [
    {
     "name": "stdout",
     "output_type": "stream",
     "text": [
      "      PatientId  AppointmentID Gender          ScheduledDay  \\\n",
      "0  2.987250e+13        5642903      F  2016-04-29T18:38:08Z   \n",
      "1  5.589978e+14        5642503      M  2016-04-29T16:08:27Z   \n",
      "2  4.262962e+12        5642549      F  2016-04-29T16:19:04Z   \n",
      "3  8.679512e+11        5642828      F  2016-04-29T17:29:31Z   \n",
      "4  8.841186e+12        5642494      F  2016-04-29T16:07:23Z   \n",
      "\n",
      "         AppointmentDay  Age      Neighbourhood  Scholarship  Hipertension  \\\n",
      "0  2016-04-29T00:00:00Z   62    JARDIM DA PENHA            0             1   \n",
      "1  2016-04-29T00:00:00Z   56    JARDIM DA PENHA            0             0   \n",
      "2  2016-04-29T00:00:00Z   62      MATA DA PRAIA            0             0   \n",
      "3  2016-04-29T00:00:00Z    8  PONTAL DE CAMBURI            0             0   \n",
      "4  2016-04-29T00:00:00Z   56    JARDIM DA PENHA            0             1   \n",
      "\n",
      "   Diabetes  Alcoholism  Handcap  SMS_received No-show  \n",
      "0         0           0        0             0      No  \n",
      "1         0           0        0             0      No  \n",
      "2         0           0        0             0      No  \n",
      "3         0           0        0             0      No  \n",
      "4         1           0        0             0      No  \n"
     ]
    }
   ],
   "source": [
    "# Load your data and print out a few lines. \n",
    "no_show_df = pd.read_csv('noshowappointments-kagglev2-may-2016 (1).csv')\n",
    "print(no_show_df.head())\n"
   ]
  },
  {
   "cell_type": "code",
   "execution_count": 3,
   "metadata": {},
   "outputs": [
    {
     "name": "stdout",
     "output_type": "stream",
     "text": [
      "PatientId         float64\n",
      "AppointmentID       int64\n",
      "Gender             object\n",
      "ScheduledDay       object\n",
      "AppointmentDay     object\n",
      "Age                 int64\n",
      "Neighbourhood      object\n",
      "Scholarship         int64\n",
      "Hipertension        int64\n",
      "Diabetes            int64\n",
      "Alcoholism          int64\n",
      "Handcap             int64\n",
      "SMS_received        int64\n",
      "No-show            object\n",
      "dtype: object\n"
     ]
    }
   ],
   "source": [
    "#Perform operations to inspect datatypes and look for instances of missing or possibly errant data.\n",
    "print (no_show_df.dtypes)"
   ]
  },
  {
   "cell_type": "markdown",
   "metadata": {},
   "source": [
    "checking for datatypes in all the columns"
   ]
  },
  {
   "cell_type": "code",
   "execution_count": 4,
   "metadata": {},
   "outputs": [
    {
     "name": "stdout",
     "output_type": "stream",
     "text": [
      "False\n",
      "PatientId         0\n",
      "AppointmentID     0\n",
      "Gender            0\n",
      "ScheduledDay      0\n",
      "AppointmentDay    0\n",
      "Age               0\n",
      "Neighbourhood     0\n",
      "Scholarship       0\n",
      "Hipertension      0\n",
      "Diabetes          0\n",
      "Alcoholism        0\n",
      "Handcap           0\n",
      "SMS_received      0\n",
      "No-show           0\n",
      "dtype: int64\n"
     ]
    }
   ],
   "source": [
    "#Looking for null values \n",
    "print(no_show_df.isnull().values.all())\n",
    "print(no_show_df.isnull().sum())"
   ]
  },
  {
   "cell_type": "markdown",
   "metadata": {},
   "source": [
    "There are no values in any column"
   ]
  },
  {
   "cell_type": "code",
   "execution_count": 5,
   "metadata": {},
   "outputs": [
    {
     "name": "stdout",
     "output_type": "stream",
     "text": [
      "38568\n",
      "           PatientId  AppointmentID Gender          ScheduledDay  \\\n",
      "0       2.987250e+13        5642903      F  2016-04-29T18:38:08Z   \n",
      "1       5.589978e+14        5642503      M  2016-04-29T16:08:27Z   \n",
      "2       4.262962e+12        5642549      F  2016-04-29T16:19:04Z   \n",
      "3       8.679512e+11        5642828      F  2016-04-29T17:29:31Z   \n",
      "4       8.841186e+12        5642494      F  2016-04-29T16:07:23Z   \n",
      "8       5.639473e+13        5638447      F  2016-04-29T08:02:16Z   \n",
      "19      7.223289e+12        5640433      F  2016-04-29T10:43:14Z   \n",
      "24      8.734858e+12        5641780      F  2016-04-29T14:19:19Z   \n",
      "26      2.578785e+10        5641781      F  2016-04-29T14:19:42Z   \n",
      "28      5.926172e+12        5642400      M  2016-04-29T15:48:02Z   \n",
      "29      1.225776e+12        5642186      F  2016-04-29T15:16:29Z   \n",
      "32      5.288356e+13        5637908      M  2016-04-29T07:30:27Z   \n",
      "34      1.999976e+13        5637963      F  2016-04-29T07:34:30Z   \n",
      "35      7.816264e+13        5637968      M  2016-04-29T07:34:42Z   \n",
      "36      7.298459e+13        5637975      F  2016-04-29T07:35:19Z   \n",
      "37      1.578132e+12        5637986      F  2016-04-29T07:35:56Z   \n",
      "39      1.455623e+13        5639644      F  2016-04-29T09:21:13Z   \n",
      "43      7.155896e+13        5641620      F  2016-04-29T14:02:16Z   \n",
      "53      4.438587e+14        5637909      M  2016-04-29T07:30:31Z   \n",
      "54      3.371889e+12        5638164      F  2016-04-29T07:46:08Z   \n",
      "55      4.179932e+13        5638018      M  2016-04-29T07:37:45Z   \n",
      "57      3.996740e+12        5638466      M  2016-04-29T08:03:51Z   \n",
      "58      4.487944e+10        5638235      M  2016-04-29T07:50:15Z   \n",
      "59      7.184428e+13        5638545      F  2016-04-29T08:08:43Z   \n",
      "66      9.784893e+14        5638604      M  2016-04-29T08:12:27Z   \n",
      "67      8.647128e+13        5639264      F  2016-04-29T08:53:02Z   \n",
      "72      7.746486e+12        5638014      F  2016-04-29T07:37:37Z   \n",
      "77      5.753721e+12        5642767      F  2016-04-29T17:06:27Z   \n",
      "82      1.827125e+11        5638939      M  2016-04-29T08:36:19Z   \n",
      "83      2.274979e+11        5637742      M  2016-04-29T07:20:46Z   \n",
      "...              ...            ...    ...                   ...   \n",
      "110475  2.123885e+14        5779726      F  2016-06-07T07:14:07Z   \n",
      "110483  1.642781e+12        5769404      F  2016-06-03T08:47:58Z   \n",
      "110486  3.184153e+14        5788099      F  2016-06-08T11:14:23Z   \n",
      "110487  1.891645e+12        5786423      M  2016-06-08T08:24:51Z   \n",
      "110488  7.935892e+14        5760379      M  2016-06-01T14:47:12Z   \n",
      "110489  7.874370e+14        5788924      F  2016-06-08T13:54:16Z   \n",
      "110490  3.252624e+14        5787975      M  2016-06-08T10:55:45Z   \n",
      "110491  7.565622e+11        5787950      F  2016-06-08T10:52:27Z   \n",
      "110492  6.456342e+14        5786741      M  2016-06-08T08:50:19Z   \n",
      "110493  1.712135e+11        5788054      M  2016-06-08T11:06:40Z   \n",
      "110495  7.499489e+12        5759838      M  2016-06-01T13:49:47Z   \n",
      "110497  7.935892e+14        5757745      M  2016-06-01T09:46:33Z   \n",
      "110498  9.433654e+13        5787655      F  2016-06-08T10:21:14Z   \n",
      "110499  8.219692e+14        5757697      F  2016-06-01T09:42:56Z   \n",
      "110500  4.434384e+14        5787233      F  2016-06-08T09:35:13Z   \n",
      "110501  4.544252e+11        5758133      M  2016-06-01T10:19:12Z   \n",
      "110502  7.316229e+14        5787937      F  2016-06-08T10:50:42Z   \n",
      "110503  2.362182e+13        5759473      F  2016-06-01T13:00:36Z   \n",
      "110504  9.947983e+12        5788052      F  2016-06-08T11:06:21Z   \n",
      "110505  5.667344e+13        5758455      F  2016-06-01T10:45:50Z   \n",
      "110506  8.973883e+11        5758779      M  2016-06-01T11:09:20Z   \n",
      "110507  4.769462e+14        5786918      F  2016-06-08T09:04:18Z   \n",
      "110508  9.433654e+13        5757656      F  2016-06-01T09:41:00Z   \n",
      "110509  4.952968e+14        5786750      M  2016-06-08T08:50:51Z   \n",
      "110510  2.362182e+13        5757587      F  2016-06-01T09:35:48Z   \n",
      "110511  8.235996e+11        5786742      F  2016-06-08T08:50:20Z   \n",
      "110512  9.876246e+13        5786368      F  2016-06-08T08:20:01Z   \n",
      "110513  8.674778e+13        5785964      M  2016-06-08T07:52:55Z   \n",
      "110514  2.695685e+12        5786567      F  2016-06-08T08:35:31Z   \n",
      "110517  5.574942e+12        5780122      F  2016-06-07T07:38:34Z   \n",
      "\n",
      "              AppointmentDay  Age      Neighbourhood  Scholarship  \\\n",
      "0       2016-04-29T00:00:00Z   62    JARDIM DA PENHA            0   \n",
      "1       2016-04-29T00:00:00Z   56    JARDIM DA PENHA            0   \n",
      "2       2016-04-29T00:00:00Z   62      MATA DA PRAIA            0   \n",
      "3       2016-04-29T00:00:00Z    8  PONTAL DE CAMBURI            0   \n",
      "4       2016-04-29T00:00:00Z   56    JARDIM DA PENHA            0   \n",
      "8       2016-04-29T00:00:00Z   21         ANDORINHAS            0   \n",
      "19      2016-04-29T00:00:00Z   46           DA PENHA            0   \n",
      "24      2016-04-29T00:00:00Z   65         TABUAZEIRO            0   \n",
      "26      2016-04-29T00:00:00Z   45     BENTO FERREIRA            0   \n",
      "28      2016-04-29T00:00:00Z   51          SÃO PEDRO            0   \n",
      "29      2016-04-29T00:00:00Z   32       SANTA MARTHA            0   \n",
      "32      2016-04-29T00:00:00Z   61      SÃO CRISTÓVÃO            0   \n",
      "34      2016-04-29T00:00:00Z   79      SÃO CRISTÓVÃO            0   \n",
      "35      2016-04-29T00:00:00Z   18      SÃO CRISTÓVÃO            0   \n",
      "36      2016-04-29T00:00:00Z   63      SÃO CRISTÓVÃO            0   \n",
      "37      2016-04-29T00:00:00Z   64         TABUAZEIRO            1   \n",
      "39      2016-04-29T00:00:00Z   59      SÃO CRISTÓVÃO            0   \n",
      "43      2016-04-29T00:00:00Z   49      SÃO CRISTÓVÃO            0   \n",
      "53      2016-04-29T00:00:00Z    6          CONQUISTA            0   \n",
      "54      2016-04-29T00:00:00Z    6     NOVA PALESTINA            0   \n",
      "55      2016-04-29T00:00:00Z    2     NOVA PALESTINA            0   \n",
      "57      2016-04-29T00:00:00Z   11          CONQUISTA            0   \n",
      "58      2016-04-29T00:00:00Z    7          SÃO PEDRO            0   \n",
      "59      2016-04-29T00:00:00Z    0          CONQUISTA            0   \n",
      "66      2016-04-29T00:00:00Z    1          CONQUISTA            0   \n",
      "67      2016-04-29T00:00:00Z    0     NOVA PALESTINA            0   \n",
      "72      2016-04-29T00:00:00Z   61     JARDIM CAMBURI            0   \n",
      "77      2016-04-29T00:00:00Z   27             JABOUR            0   \n",
      "82      2016-04-29T00:00:00Z   71             JABOUR            0   \n",
      "83      2016-04-29T00:00:00Z   36        RESISTÊNCIA            0   \n",
      "...                      ...  ...                ...          ...   \n",
      "110475  2016-06-07T00:00:00Z   54        RESISTÊNCIA            0   \n",
      "110483  2016-06-03T00:00:00Z   60     PRAIA DO CANTO            0   \n",
      "110486  2016-06-08T00:00:00Z   60        MARIA ORTIZ            0   \n",
      "110487  2016-06-08T00:00:00Z   20        MARIA ORTIZ            0   \n",
      "110488  2016-06-01T00:00:00Z   76        MARIA ORTIZ            0   \n",
      "110489  2016-06-08T00:00:00Z   22        MARIA ORTIZ            0   \n",
      "110490  2016-06-08T00:00:00Z   51        MARIA ORTIZ            0   \n",
      "110491  2016-06-08T00:00:00Z   53        MARIA ORTIZ            0   \n",
      "110492  2016-06-08T00:00:00Z   33        MARIA ORTIZ            0   \n",
      "110493  2016-06-08T00:00:00Z   21        MARIA ORTIZ            0   \n",
      "110495  2016-06-01T00:00:00Z   40        MARIA ORTIZ            0   \n",
      "110497  2016-06-01T00:00:00Z   76        MARIA ORTIZ            0   \n",
      "110498  2016-06-08T00:00:00Z   59        MARIA ORTIZ            0   \n",
      "110499  2016-06-01T00:00:00Z   66        MARIA ORTIZ            0   \n",
      "110500  2016-06-08T00:00:00Z   59        MARIA ORTIZ            0   \n",
      "110501  2016-06-01T00:00:00Z   44        MARIA ORTIZ            0   \n",
      "110502  2016-06-08T00:00:00Z   22         GOIABEIRAS            0   \n",
      "110503  2016-06-01T00:00:00Z   64       SOLON BORGES            0   \n",
      "110504  2016-06-08T00:00:00Z    4        MARIA ORTIZ            0   \n",
      "110505  2016-06-01T00:00:00Z   55        MARIA ORTIZ            0   \n",
      "110506  2016-06-01T00:00:00Z    5        MARIA ORTIZ            0   \n",
      "110507  2016-06-08T00:00:00Z    0        MARIA ORTIZ            0   \n",
      "110508  2016-06-01T00:00:00Z   59        MARIA ORTIZ            0   \n",
      "110509  2016-06-08T00:00:00Z   33        MARIA ORTIZ            0   \n",
      "110510  2016-06-01T00:00:00Z   64       SOLON BORGES            0   \n",
      "110511  2016-06-08T00:00:00Z   14        MARIA ORTIZ            0   \n",
      "110512  2016-06-08T00:00:00Z   41        MARIA ORTIZ            0   \n",
      "110513  2016-06-08T00:00:00Z    2    ANTÔNIO HONÓRIO            0   \n",
      "110514  2016-06-08T00:00:00Z   58        MARIA ORTIZ            0   \n",
      "110517  2016-06-07T00:00:00Z   19        MARIA ORTIZ            0   \n",
      "\n",
      "        Hipertension  Diabetes  Alcoholism  Handcap  SMS_received No-show  \n",
      "0                  1         0           0        0             0      No  \n",
      "1                  0         0           0        0             0      No  \n",
      "2                  0         0           0        0             0      No  \n",
      "3                  0         0           0        0             0      No  \n",
      "4                  1         1           0        0             0      No  \n",
      "8                  0         0           0        0             0      No  \n",
      "19                 0         0           0        0             0      No  \n",
      "24                 0         0           0        0             0      No  \n",
      "26                 1         0           0        0             0      No  \n",
      "28                 0         0           0        0             0      No  \n",
      "29                 0         0           0        0             0      No  \n",
      "32                 1         0           0        0             0      No  \n",
      "34                 1         0           0        0             0      No  \n",
      "35                 0         0           0        0             0      No  \n",
      "36                 1         1           0        0             0      No  \n",
      "37                 1         1           0        0             0      No  \n",
      "39                 0         0           0        0             0      No  \n",
      "43                 1         0           0        0             0      No  \n",
      "53                 0         0           0        0             0      No  \n",
      "54                 0         0           0        0             0      No  \n",
      "55                 0         0           0        0             0      No  \n",
      "57                 0         0           0        0             0      No  \n",
      "58                 0         0           0        0             0      No  \n",
      "59                 0         0           0        0             0      No  \n",
      "66                 0         0           0        0             0      No  \n",
      "67                 0         0           0        0             0      No  \n",
      "72                 0         0           0        0             0      No  \n",
      "77                 0         0           0        0             0      No  \n",
      "82                 0         0           0        0             0      No  \n",
      "83                 0         0           0        0             0      No  \n",
      "...              ...       ...         ...      ...           ...     ...  \n",
      "110475             1         0           0        0             0      No  \n",
      "110483             1         0           0        0             0      No  \n",
      "110486             0         0           0        0             0      No  \n",
      "110487             0         0           0        0             0      No  \n",
      "110488             0         0           0        0             0      No  \n",
      "110489             0         0           0        0             0      No  \n",
      "110490             0         0           0        0             0      No  \n",
      "110491             0         0           0        0             0      No  \n",
      "110492             1         0           0        0             0     Yes  \n",
      "110493             0         0           0        0             0      No  \n",
      "110495             0         0           0        0             0      No  \n",
      "110497             0         0           0        0             0      No  \n",
      "110498             0         0           0        0             0      No  \n",
      "110499             1         1           0        0             0      No  \n",
      "110500             0         0           0        0             0      No  \n",
      "110501             0         0           0        0             0      No  \n",
      "110502             0         0           0        0             0      No  \n",
      "110503             0         0           0        0             0      No  \n",
      "110504             0         0           0        0             0      No  \n",
      "110505             0         0           0        0             0      No  \n",
      "110506             0         0           0        0             0      No  \n",
      "110507             0         0           0        0             0      No  \n",
      "110508             0         0           0        0             0      No  \n",
      "110509             0         0           0        0             0      No  \n",
      "110510             0         0           0        0             0      No  \n",
      "110511             0         0           0        0             0      No  \n",
      "110512             0         0           0        0             0      No  \n",
      "110513             0         0           0        0             0      No  \n",
      "110514             0         0           0        0             0      No  \n",
      "110517             0         0           0        0             0      No  \n",
      "\n",
      "[38568 rows x 14 columns]\n"
     ]
    }
   ],
   "source": [
    "#looking for erroneous data\n",
    "tempdf = no_show_df[no_show_df['ScheduledDay'] > no_show_df['AppointmentDay']]\n",
    "print(len(tempdf))\n",
    "print(tempdf)"
   ]
  },
  {
   "cell_type": "markdown",
   "metadata": {},
   "source": [
    "tempdf are erroneous records, have to delete them"
   ]
  },
  {
   "cell_type": "markdown",
   "metadata": {},
   "source": [
    "Clean datatypes\n",
    "### Data Cleaning "
   ]
  },
  {
   "cell_type": "code",
   "execution_count": 6,
   "metadata": {},
   "outputs": [
    {
     "name": "stdout",
     "output_type": "stream",
     "text": [
      "<class 'pandas._libs.tslib.Timestamp'>\n",
      "<class 'pandas._libs.tslib.Timestamp'>\n",
      "<class 'numpy.int64'>\n",
      "71959\n"
     ]
    }
   ],
   "source": [
    "# After discussing the structure of the data and any problems that need to be\n",
    "#   cleaned, perform those cleaning steps in the second part of this section.\n",
    "\n",
    "#changing data types \n",
    "no_show_df['ScheduledDay'] = pd.to_datetime(no_show_df['ScheduledDay'])\n",
    "\n",
    "print(type(no_show_df['ScheduledDay'][0]))\n",
    "\n",
    "no_show_df['AppointmentDay'] = pd.to_datetime(no_show_df['AppointmentDay'])\n",
    "\n",
    "print(type(no_show_df['AppointmentDay'][0]))\n",
    "\n",
    "print(type(no_show_df['Scholarship'][0]))\n",
    "\n",
    "#Removing erroneous data\n",
    "\n",
    "parsed_df = no_show_df[no_show_df['ScheduledDay'] < no_show_df['AppointmentDay'] ]\n",
    "\n",
    "print(len(parsed_df))\n"
   ]
  },
  {
   "cell_type": "markdown",
   "metadata": {},
   "source": [
    "<a id='eda'></a>\n",
    "## Exploratory Data Analysis\n",
    "\n",
    "### SMS_received data Vs No show data"
   ]
  },
  {
   "cell_type": "code",
   "execution_count": 24,
   "metadata": {},
   "outputs": [
    {
     "data": {
      "text/plain": [
       "[Text(0,0.5,'SMS Received Proportion'), Text(0.5,1,'SMS recieved Vs No-show')]"
      ]
     },
     "execution_count": 24,
     "metadata": {},
     "output_type": "execute_result"
    },
    {
     "data": {
      "image/png": "[encoded data removed]",
      "text/plain": [
       "<matplotlib.figure.Figure at 0x7f311e6f5ba8>"
      ]
     },
     "metadata": {},
     "output_type": "display_data"
    }
   ],
   "source": [
    "# Use this, and more code cells, to explore your data. Don't forget to add\n",
    "#   Markdown cells to document your observations and findings.\n",
    "\n",
    "barplot = sns.barplot( x = \"No-show\", y = \"SMS_received\", data = parsed_df)\n",
    "barplot.set(ylabel = \"SMS Received Proportion\",title = \"SMS recieved Vs No-show\")"
   ]
  },
  {
   "cell_type": "markdown",
   "metadata": {},
   "source": [
    "As we observe the above graph we get to see that patienst who showed up for appointment has got more SMS received than patients who did not show up for appointment, hence we can consider SMS as one of the factors for No Show"
   ]
  },
  {
   "cell_type": "markdown",
   "metadata": {},
   "source": [
    "### Scholarship data Vs No show data"
   ]
  },
  {
   "cell_type": "code",
   "execution_count": 25,
   "metadata": {},
   "outputs": [
    {
     "data": {
      "text/plain": [
       "[Text(0,0.5,'Scholarship Received Proportion'),\n",
       " Text(0.5,1,'Scholarship Recieved Vs No-show')]"
      ]
     },
     "execution_count": 25,
     "metadata": {},
     "output_type": "execute_result"
    },
    {
     "data": {
      "image/png": "[encoded data removed]",
      "text/plain": [
       "<matplotlib.figure.Figure at 0x7f313afb2668>"
      ]
     },
     "metadata": {},
     "output_type": "display_data"
    }
   ],
   "source": [
    "# Continue to explore the data to address your additional research\n",
    "#   questions. Add more headers as needed if you have more questions to\n",
    "#   investigate.\n",
    "\n",
    "barplot = sns.barplot( x = \"No-show\", y = \"Scholarship\", data = parsed_df)\n",
    "barplot.set(ylabel = \"Scholarship Received Proportion\",title = \"Scholarship Recieved Vs No-show\")"
   ]
  },
  {
   "cell_type": "markdown",
   "metadata": {},
   "source": [
    "In this plot, the people without scholarships showed up more in number for appointment and people with scholarships showed up less in number when compared to people who did not show up"
   ]
  },
  {
   "cell_type": "markdown",
   "metadata": {},
   "source": [
    "### Scholarship Vs Diabetes"
   ]
  },
  {
   "cell_type": "code",
   "execution_count": 26,
   "metadata": {},
   "outputs": [
    {
     "data": {
      "text/plain": [
       "[Text(0,0.5,'Scholarship Received Proportion'),\n",
       " Text(0.5,1,'Scholarship Vs Diabetes')]"
      ]
     },
     "execution_count": 26,
     "metadata": {},
     "output_type": "execute_result"
    },
    {
     "data": {
      "image/png": "[encoded data removed]",
      "text/plain": [
       "<matplotlib.figure.Figure at 0x7f311e898cf8>"
      ]
     },
     "metadata": {},
     "output_type": "display_data"
    }
   ],
   "source": [
    "\n",
    "barplot = sns.barplot( x = \"Diabetes\", y = \"Scholarship\", data = parsed_df)\n",
    "barplot.set(ylabel = \"Scholarship Received Proportion\",title = \"Scholarship Vs Diabetes\")"
   ]
  },
  {
   "cell_type": "markdown",
   "metadata": {},
   "source": [
    "Patients with diabetes are less likely having scholarships"
   ]
  },
  {
   "cell_type": "markdown",
   "metadata": {},
   "source": [
    "### Scholarship Vs Hipertension"
   ]
  },
  {
   "cell_type": "code",
   "execution_count": 17,
   "metadata": {},
   "outputs": [
    {
     "data": {
      "text/plain": [
       "[Text(0,0.5,'Scholarship Received Proportion'),\n",
       " Text(0.5,1,'Scholarship Received Vs Hipertension')]"
      ]
     },
     "execution_count": 17,
     "metadata": {},
     "output_type": "execute_result"
    },
    {
     "data": {
      "image/png": "[encoded data removed]",
      "text/plain": [
       "<matplotlib.figure.Figure at 0x7f311ea038d0>"
      ]
     },
     "metadata": {},
     "output_type": "display_data"
    }
   ],
   "source": [
    "\n",
    "barplot = sns.barplot( x = \"Hipertension\", y = \"Scholarship\", data = parsed_df)\n",
    "barplot.set(ylabel = \"Scholarship Received Proportion\",title = \"Scholarship Vs Hipertension\")"
   ]
  },
  {
   "cell_type": "markdown",
   "metadata": {},
   "source": [
    "patients with hipertension are less likely having scholarships"
   ]
  },
  {
   "cell_type": "markdown",
   "metadata": {},
   "source": [
    "### Scholarship Vs Alcoholism"
   ]
  },
  {
   "cell_type": "code",
   "execution_count": 19,
   "metadata": {},
   "outputs": [
    {
     "data": {
      "text/plain": [
       "[Text(0,0.5,'Scholarship Received Proportion'),\n",
       " Text(0.5,1,'Scholarship Received Vs Alcoholism')]"
      ]
     },
     "execution_count": 19,
     "metadata": {},
     "output_type": "execute_result"
    },
    {
     "data": {
      "image/png": "[encoded data removed]",
      "text/plain": [
       "<matplotlib.figure.Figure at 0x7f311e9e7630>"
      ]
     },
     "metadata": {},
     "output_type": "display_data"
    }
   ],
   "source": [
    "\n",
    "barplot = sns.barplot( x = \"Alcoholism\", y = \"Scholarship\", data = parsed_df)\n",
    "\n",
    "barplot.set(ylabel = \"Scholarship Received Proportion\",title = \"Scholarship Vs Alcoholism\")"
   ]
  },
  {
   "cell_type": "markdown",
   "metadata": {},
   "source": [
    "Patients who drink alcohol are more likely having scholarships"
   ]
  },
  {
   "cell_type": "markdown",
   "metadata": {},
   "source": [
    "### No show Vs Diabetes"
   ]
  },
  {
   "cell_type": "code",
   "execution_count": 20,
   "metadata": {},
   "outputs": [
    {
     "data": {
      "text/plain": [
       "[Text(0,0.5,'Diabetes Proportion'), Text(0.5,1,'No-show Vs Diabetes')]"
      ]
     },
     "execution_count": 20,
     "metadata": {},
     "output_type": "execute_result"
    },
    {
     "data": {
      "image/png": "[encoded data removed]",
      "text/plain": [
       "<matplotlib.figure.Figure at 0x7f311e9bb438>"
      ]
     },
     "metadata": {},
     "output_type": "display_data"
    }
   ],
   "source": [
    "\n",
    "barplot = sns.barplot( x = \"No-show\", y = \"Diabetes\", data = parsed_df)\n",
    "barplot.set(ylabel = \"Diabetes Proportion\",title = \"No-show Vs Diabetes\")"
   ]
  },
  {
   "cell_type": "markdown",
   "metadata": {},
   "source": [
    "Patients with  Diabetes are less likely shown on their appointment days"
   ]
  },
  {
   "cell_type": "markdown",
   "metadata": {},
   "source": [
    "### No show Vs Hipertension"
   ]
  },
  {
   "cell_type": "code",
   "execution_count": 21,
   "metadata": {},
   "outputs": [
    {
     "data": {
      "text/plain": [
       "[Text(0,0.5,'Hipertension Proportion'), Text(0.5,1,'No-show Vs Hipertension')]"
      ]
     },
     "execution_count": 21,
     "metadata": {},
     "output_type": "execute_result"
    },
    {
     "data": {
      "image/png": "[encoded data removed]",
      "text/plain": [
       "<matplotlib.figure.Figure at 0x7f311e8bb828>"
      ]
     },
     "metadata": {},
     "output_type": "display_data"
    }
   ],
   "source": [
    "\n",
    "barplot = sns.barplot( x = \"No-show\", y = \"Hipertension\", data = parsed_df)\n",
    "barplot.set(ylabel = \"Hipertension Proportion\",title = \"No-show Vs Hipertension\")"
   ]
  },
  {
   "cell_type": "code",
   "execution_count": null,
   "metadata": {},
   "outputs": [],
   "source": [
    "Patients who had hipertension are most likely showing up on their appointment days"
   ]
  },
  {
   "cell_type": "markdown",
   "metadata": {},
   "source": [
    "### No show Vs Alcoholism"
   ]
  },
  {
   "cell_type": "code",
   "execution_count": 22,
   "metadata": {},
   "outputs": [
    {
     "data": {
      "text/plain": [
       "[Text(0,0.5,'Alcoholism Proportion'), Text(0.5,1,'No-show Vs Alcoholism')]"
      ]
     },
     "execution_count": 22,
     "metadata": {},
     "output_type": "execute_result"
    },
    {
     "data": {
      "image/png": "[encoded data removed]",
      "text/plain": [
       "<matplotlib.figure.Figure at 0x7f312a59f1d0>"
      ]
     },
     "metadata": {},
     "output_type": "display_data"
    }
   ],
   "source": [
    "\n",
    "barplot = sns.barplot( x = \"No-show\", y = \"Alcoholism\", data = parsed_df)\n",
    "barplot.set(ylabel = \"Alcoholism Proportion\",title = \"No-show Vs Alcoholism\")"
   ]
  },
  {
   "cell_type": "markdown",
   "metadata": {},
   "source": [
    "Patients who drink alcohol did not show up for appointment more in number"
   ]
  },
  {
   "cell_type": "markdown",
   "metadata": {},
   "source": [
    "<a id='conclusions'></a>\n",
    "## Conclusions\n"
   ]
  },
  {
   "cell_type": "markdown",
   "metadata": {},
   "source": [
    "Finally, i have observed following correlations:\n",
    "\n",
    "SMS notification and No-show : there is a direct relation betwenn these items,when there is an SMS, there are more chances for that patient to show up for that particular Appointment,however a patient who showed up for appointment does not necessarily recieve an SMS\n",
    "\n",
    "Diabetes and No-show: The Diabetes Patients may show up for an appointment, however showed up patients may or may not have diabetes\n",
    "\n",
    "Hipertension and No-show:The Hipertension Patients may show up for an appointment, however showed up patients may or may not have  hipertension\n",
    "\n",
    "\n",
    "Alcoholism,NO-show,Scholarships,Diabetes, Hipertension:The Alcoholic patients has an inverse relation with no-show, however patients with no-show might not be an alcoholic .Alcoholism has direct relation with Scholarships.People who recieve scholarship is not an alcoholic necessarily.Diabetes and Hipertension patients have less number of scholarships than Alcoholic patients, this does not imply that Scholarships are given more to alcoholic patients\n",
    "\n",
    "I would like to conclude that the above are only correlations and there is no direct cause .This proves that Correlation does not imply causation"
   ]
  },
  {
   "cell_type": "code",
   "execution_count": 10,
   "metadata": {},
   "outputs": [
    {
     "data": {
      "text/plain": [
       "0"
      ]
     },
     "execution_count": 10,
     "metadata": {},
     "output_type": "execute_result"
    }
   ],
   "source": [
    "from subprocess import call\n",
    "call(['python', '-m', 'nbconvert', 'Investigate_a_Dataset.ipynb'])"
   ]
  },
  {
   "cell_type": "code",
   "execution_count": null,
   "metadata": {},
   "outputs": [],
   "source": []
  }
 ],
 "metadata": {
  "kernelspec": {
   "display_name": "Python 3",
   "language": "python",
   "name": "python3"
  },
  "language_info": {
   "codemirror_mode": {
    "name": "ipython",
    "version": 3
   },
   "file_extension": ".py",
   "mimetype": "text/x-python",
   "name": "python",
   "nbconvert_exporter": "python",
   "pygments_lexer": "ipython3",
   "version": "3.6.3"
  }
 },
 "nbformat": 4,
 "nbformat_minor": 2
}
